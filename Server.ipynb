{
 "cells": [
  {
   "cell_type": "code",
   "execution_count": 1,
   "id": "93476178",
   "metadata": {},
   "outputs": [],
   "source": [
    "import socket, pickle, struct, cv2"
   ]
  },
  {
   "cell_type": "code",
   "execution_count": 2,
   "id": "0adfde1d",
   "metadata": {},
   "outputs": [
    {
     "name": "stdout",
     "output_type": "stream",
     "text": [
      "Socket created\n"
     ]
    }
   ],
   "source": [
    "try:\n",
    "    s = socket.socket(socket.AF_INET, socket.SOCK_STREAM)\n",
    "    print(\"Socket created\")\n",
    "except:\n",
    "    print(f\"Failed to create a socket {0}\".format(err))"
   ]
  },
  {
   "cell_type": "code",
   "execution_count": 3,
   "id": "20656342",
   "metadata": {},
   "outputs": [
    {
     "name": "stdout",
     "output_type": "stream",
     "text": [
      "Listening\n"
     ]
    }
   ],
   "source": [
    "s.bind((\"\", 9999))\n",
    "s.listen()\n",
    "print(\"Listening\")"
   ]
  },
  {
   "cell_type": "code",
   "execution_count": null,
   "id": "62b7c73c",
   "metadata": {},
   "outputs": [
    {
     "name": "stdout",
     "output_type": "stream",
     "text": [
      "Connected to -->  ('192.168.1.4', 13482)\n"
     ]
    }
   ],
   "source": [
    "while True:\n",
    "    c, addr = s.accept()\n",
    "    print(\"Connected to --> \", addr)\n",
    "    if c:\n",
    "        cap = cv2.VideoCapture(0)\n",
    "        while(cap.isOpened()):\n",
    "            ret, img = cap.read()\n",
    "            data = pickle.dumps(img)\n",
    "            msg = struct.pack(\"N\", len(data))+data\n",
    "            c.sendall(msg)\n",
    "            cv2.imshow(\"Server Side\", img)\n",
    "            if cv2.waitKey(1) == 13:\n",
    "                cv2.destroyAllWindows()\n",
    "                c.close()\n",
    "                cap.release()\n",
    "                break\n",
    "                "
   ]
  },
  {
   "cell_type": "code",
   "execution_count": null,
   "id": "f5da7a3f",
   "metadata": {},
   "outputs": [],
   "source": []
  },
  {
   "cell_type": "code",
   "execution_count": null,
   "id": "774b6332",
   "metadata": {},
   "outputs": [],
   "source": []
  }
 ],
 "metadata": {
  "kernelspec": {
   "display_name": "Python 3",
   "language": "python",
   "name": "python3"
  },
  "language_info": {
   "codemirror_mode": {
    "name": "ipython",
    "version": 3
   },
   "file_extension": ".py",
   "mimetype": "text/x-python",
   "name": "python",
   "nbconvert_exporter": "python",
   "pygments_lexer": "ipython3",
   "version": "3.8.8"
  }
 },
 "nbformat": 4,
 "nbformat_minor": 5
}
